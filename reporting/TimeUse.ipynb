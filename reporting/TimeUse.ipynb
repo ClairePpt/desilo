{
 "cells": [
  {
   "cell_type": "code",
   "execution_count": 1,
   "id": "be99d955-69f0-499e-9e92-efba6572f061",
   "metadata": {},
   "outputs": [
    {
     "name": "stdout",
     "output_type": "stream",
     "text": [
      "Populating the interactive namespace from numpy and matplotlib\n"
     ]
    }
   ],
   "source": [
    "%pylab inline\n",
    "import os, sys\n",
    "import pandas as pd\n",
    "import numpy as np\n",
    "import matplotlib.pyplot as plt\n",
    "\n",
    "import psycopg2"
   ]
  },
  {
   "cell_type": "code",
   "execution_count": 2,
   "id": "86925ba4-c390-4546-a412-aee3d8801f58",
   "metadata": {},
   "outputs": [],
   "source": [
    "plt.rc('font', size=12, family='serif')"
   ]
  },
  {
   "cell_type": "markdown",
   "id": "60081eae-af16-4dbf-a820-a69239d5291d",
   "metadata": {},
   "source": [
    "## Get Data Entered by Observers"
   ]
  },
  {
   "cell_type": "markdown",
   "id": "53ef1a9a-3e0a-450e-bb14-8dd492c7aca3",
   "metadata": {},
   "source": [
    "This section takes the Time Use input by the observers (LO) in the nightlog and collates it all. "
   ]
  },
  {
   "cell_type": "code",
   "execution_count": 119,
   "id": "39e461e3-f382-4738-bfb8-b2a723ff0f84",
   "metadata": {},
   "outputs": [],
   "source": [
    "#Run this cell to get all the data from the NightLogs\n",
    "nl_dir = '/global/cfs/cdirs/desi/survey/ops/nightlogs'\n",
    "\n",
    "time_use_files = {}\n",
    "for dir_ in os.listdir(nl_dir):\n",
    "    f = os.path.join(nl_dir,dir_,'time_use_kpno.csv')\n",
    "    if os.path.isfile(f):\n",
    "        time_use_files[dir_] = f\n",
    "        \n",
    "data = []\n",
    "for date, f in time_use_files.items():\n",
    "    df = pd.read_csv(f)\n",
    "    d = df.iloc[0]\n",
    "    data.append([date, d['obs_time'], d['test_time'], d['inst_loss'],d['weather_loss'], d['tel_loss'], d['18deg'],d['total']])        \n",
    "\n",
    "nl_df = pd.DataFrame(data, columns = ['date','obs_time', 'test_time', 'inst_loss','weather_loss', 'tel_loss','18deg', 'total'])\n",
    "nl_df = nl_df[['date','obs_time', 'test_time', 'inst_loss','weather_loss', 'tel_loss']]\n",
    "nl_df = nl_df.astype({\"date\": int64})"
   ]
  },
  {
   "cell_type": "code",
   "execution_count": 120,
   "id": "292f669c-906c-4e75-932e-3b7740394a0e",
   "metadata": {},
   "outputs": [],
   "source": [
    "##If you need to add a line that isn't being read by nightlog for whatever reason, you can add another line manually here:\n",
    "##df.loc[df.shape[0]] = [date,obs_time,test_time,isnt_loss,weather_loss,tel_loss]\n",
    "#df.loc[df.shape[0]] = ['20210901',0,0,8.324,0,0]"
   ]
  },
  {
   "cell_type": "code",
   "execution_count": 121,
   "id": "3c6bdf2f-b482-461b-b06b-88fbb5dba6d7",
   "metadata": {},
   "outputs": [],
   "source": [
    "#Run this to add to the existing file\n",
    "df = pd.read_csv('time_use_master.csv')\n",
    "for date in list(nl_df.date):\n",
    "    if date not in list(df.date):\n",
    "        print('Adding data for:',date)\n",
    "        d_ = nl_df[nl_df.date == date]\n",
    "        df = df.append(d_)\n",
    "df.sort_values('date',inplace=True)\n",
    "df.drop_duplicates('date',inplace=True,keep='first') #There shouldn't be any, but just in case\n",
    "df.to_csv('time_use_master.csv',index=False)"
   ]
  },
  {
   "cell_type": "code",
   "execution_count": 122,
   "id": "05ee74f0-b690-4f6a-9271-b29ef107735b",
   "metadata": {},
   "outputs": [],
   "source": [
    "#Format things so easier to plot\n",
    "df = df.astype({\"date\": str})\n",
    "df.set_index('date',inplace=True)\n",
    "df.columns = ['Observing','Testing','Inst. Loss','Weather Loss','Tel. Loss']"
   ]
  },
  {
   "cell_type": "markdown",
   "id": "82fa4cfc-b84c-4019-a24c-686d2ed44290",
   "metadata": {},
   "source": [
    "## Plot Time Use Data"
   ]
  },
  {
   "cell_type": "code",
   "execution_count": 123,
   "id": "410fd531-0007-4057-9ebf-da104645d3a3",
   "metadata": {},
   "outputs": [
    {
     "name": "stdout",
     "output_type": "stream",
     "text": [
      "          Observing   Testing  Inst. Loss  Weather Loss  Tel. Loss\n",
      "date                                                              \n",
      "20211001  10.250000  0.000000    0.250000      0.000000   0.000000\n",
      "20211002   9.500000  0.000000    0.250000      0.750000   0.000000\n",
      "20211003   3.500000  0.000000    0.000000      7.000000   0.000000\n",
      "20211004   0.000000  0.000000    1.000000      9.500000   0.000000\n",
      "20211005   9.470000  0.000000    0.150000      0.900000   0.000000\n",
      "20211006   6.460000  0.170000    0.000000      3.920000   0.000000\n",
      "20211007   4.170000  0.000000    0.000000      6.420000   0.000000\n",
      "20211008  10.000000  0.000000    0.000000      0.000000   0.000000\n",
      "20211009   9.120000  0.000000    0.880000      0.000000   0.000000\n",
      "20211010   9.633000  0.000000    1.017000      0.000000   0.000000\n",
      "20211011   0.000000  0.000000    0.000000     10.720000   0.000000\n",
      "20211012   0.000000  0.000000    0.000000     10.700000   0.000000\n",
      "20211013   9.816667  0.000000    0.000000      0.000000   0.000000\n",
      "20211014   9.850000  0.000000    0.000000      0.000000   0.000000\n",
      "20211015   7.700000  0.000000    1.500000      0.000000   0.666667\n",
      "20211016   6.116667  3.200000    0.583333      0.000000   0.000000\n",
      "20211017   0.000000  4.600000    1.566667      3.766667   0.000000\n",
      "20211018   0.000000  0.000000    0.000000      9.950000   0.000000\n",
      "20211019   5.133333  3.010000    1.850000      0.000000   0.000000\n",
      "20211020   9.800000  0.000000    0.100000      0.000000   0.050000\n",
      "20211021  10.000000  0.000000    1.000000      0.000000   0.000000\n",
      "20211022   9.300000  0.000000    1.200000      0.500000   0.000000\n",
      "20211023   9.550000  1.200000    0.150000      0.100000   0.000000\n",
      "20211024   9.200000  1.300000    0.500000      0.000000   0.000000\n",
      "20211025   2.500000  0.000000    0.000000      8.500000   0.000000\n",
      "20211026   8.616667  1.566667    0.000000      0.000000   0.000000\n",
      "20211027  10.000000  0.000000    0.200000      0.000000   0.000000\n",
      "20211028   9.816667  0.000000    0.416667      0.000000   0.000000\n"
     ]
    }
   ],
   "source": [
    "# Enter the date that you want data after for\n",
    "date = '20210930'\n",
    "this_df = df[df.index > date]\n",
    "print(this_df)"
   ]
  },
  {
   "cell_type": "code",
   "execution_count": 124,
   "id": "a6d8c883-720c-4c2a-b6b1-61303d7b0631",
   "metadata": {},
   "outputs": [
    {
     "data": {
      "text/plain": [
       "<matplotlib.legend.Legend at 0x2aaadc723860>"
      ]
     },
     "execution_count": 124,
     "metadata": {},
     "output_type": "execute_result"
    },
    {
     "data": {
      "image/png": "[encoded data removed]",
      "text/plain": [
       "<matplotlib.figure.Figure at 0x2aaadad8be48>"
      ]
     },
     "metadata": {
      "needs_background": "light"
     },
     "output_type": "display_data"
    }
   ],
   "source": [
    "#Plot all data after date above\n",
    "ax = this_df.plot.bar(stacked=True, figsize=(15,8))\n",
    "ax.set_ylabel(\"Hours\")\n",
    "ax.set_xlabel(\"Date\")\n",
    "ax.legend(loc='upper center',ncol=len(this_df.columns))"
   ]
  },
  {
   "cell_type": "markdown",
   "id": "386901e2-a7df-4ff3-ac86-88a3b3056802",
   "metadata": {},
   "source": [
    "## Monthly Statistics"
   ]
  },
  {
   "cell_type": "code",
   "execution_count": 125,
   "id": "525f2d78-02b2-4a6d-a0b2-7301c481bd7f",
   "metadata": {},
   "outputs": [],
   "source": [
    "month_stats = pd.read_csv('time_use_month_summary.csv')"
   ]
  },
  {
   "cell_type": "code",
   "execution_count": 126,
   "id": "62612430-1835-45b8-a692-2b6e0791e0eb",
   "metadata": {},
   "outputs": [
    {
     "data": {
      "text/html": [
       "<div>\n",
       "<style scoped>\n",
       "    .dataframe tbody tr th:only-of-type {\n",
       "        vertical-align: middle;\n",
       "    }\n",
       "\n",
       "    .dataframe tbody tr th {\n",
       "        vertical-align: top;\n",
       "    }\n",
       "\n",
       "    .dataframe thead th {\n",
       "        text-align: right;\n",
       "    }\n",
       "</style>\n",
       "<table border=\"1\" class=\"dataframe\">\n",
       "  <thead>\n",
       "    <tr style=\"text-align: right;\">\n",
       "      <th></th>\n",
       "      <th>Month</th>\n",
       "      <th>Observing</th>\n",
       "      <th>Testing</th>\n",
       "      <th>Inst. Loss</th>\n",
       "      <th>Weather Loss</th>\n",
       "      <th>Tel. Loss</th>\n",
       "      <th>DESI5577_Q1</th>\n",
       "      <th>DESI5577_AV</th>\n",
       "      <th>DESI5577_Q3</th>\n",
       "    </tr>\n",
       "  </thead>\n",
       "  <tbody>\n",
       "    <tr>\n",
       "      <th>0</th>\n",
       "      <td>January</td>\n",
       "      <td>0.327600</td>\n",
       "      <td>0.067800</td>\n",
       "      <td>0.118800</td>\n",
       "      <td>0.051900</td>\n",
       "      <td>0.434000</td>\n",
       "      <td>0.7755</td>\n",
       "      <td>0.6864</td>\n",
       "      <td>0.5980</td>\n",
       "    </tr>\n",
       "    <tr>\n",
       "      <th>1</th>\n",
       "      <td>February</td>\n",
       "      <td>0.341400</td>\n",
       "      <td>0.295200</td>\n",
       "      <td>0.042700</td>\n",
       "      <td>0.167400</td>\n",
       "      <td>0.153300</td>\n",
       "      <td>0.7744</td>\n",
       "      <td>0.7099</td>\n",
       "      <td>0.6316</td>\n",
       "    </tr>\n",
       "    <tr>\n",
       "      <th>2</th>\n",
       "      <td>March</td>\n",
       "      <td>0.346900</td>\n",
       "      <td>0.154300</td>\n",
       "      <td>0.073600</td>\n",
       "      <td>0.231900</td>\n",
       "      <td>0.193200</td>\n",
       "      <td>0.8076</td>\n",
       "      <td>0.7873</td>\n",
       "      <td>0.7486</td>\n",
       "    </tr>\n",
       "    <tr>\n",
       "      <th>3</th>\n",
       "      <td>April</td>\n",
       "      <td>0.590500</td>\n",
       "      <td>0.177300</td>\n",
       "      <td>0.057300</td>\n",
       "      <td>0.113300</td>\n",
       "      <td>0.061700</td>\n",
       "      <td>0.8902</td>\n",
       "      <td>0.8177</td>\n",
       "      <td>0.7891</td>\n",
       "    </tr>\n",
       "    <tr>\n",
       "      <th>4</th>\n",
       "      <td>May</td>\n",
       "      <td>0.697700</td>\n",
       "      <td>0.035600</td>\n",
       "      <td>0.068300</td>\n",
       "      <td>0.083200</td>\n",
       "      <td>0.115200</td>\n",
       "      <td>0.8970</td>\n",
       "      <td>0.8850</td>\n",
       "      <td>0.7998</td>\n",
       "    </tr>\n",
       "    <tr>\n",
       "      <th>5</th>\n",
       "      <td>June</td>\n",
       "      <td>0.660000</td>\n",
       "      <td>0.106000</td>\n",
       "      <td>0.045500</td>\n",
       "      <td>0.159900</td>\n",
       "      <td>0.028600</td>\n",
       "      <td>0.9441</td>\n",
       "      <td>0.9131</td>\n",
       "      <td>0.7503</td>\n",
       "    </tr>\n",
       "    <tr>\n",
       "      <th>6</th>\n",
       "      <td>July</td>\n",
       "      <td>0.114700</td>\n",
       "      <td>0.003800</td>\n",
       "      <td>0.654000</td>\n",
       "      <td>0.226800</td>\n",
       "      <td>0.000700</td>\n",
       "      <td>0.5077</td>\n",
       "      <td>0.4387</td>\n",
       "      <td>0.3984</td>\n",
       "    </tr>\n",
       "    <tr>\n",
       "      <th>7</th>\n",
       "      <td>August</td>\n",
       "      <td>0.000000</td>\n",
       "      <td>0.000000</td>\n",
       "      <td>1.000000</td>\n",
       "      <td>0.000000</td>\n",
       "      <td>0.000000</td>\n",
       "      <td>0.6925</td>\n",
       "      <td>0.5180</td>\n",
       "      <td>0.4820</td>\n",
       "    </tr>\n",
       "    <tr>\n",
       "      <th>8</th>\n",
       "      <td>September</td>\n",
       "      <td>0.165000</td>\n",
       "      <td>0.117600</td>\n",
       "      <td>0.547600</td>\n",
       "      <td>0.167800</td>\n",
       "      <td>0.001900</td>\n",
       "      <td>0.7686</td>\n",
       "      <td>0.6320</td>\n",
       "      <td>0.6000</td>\n",
       "    </tr>\n",
       "    <tr>\n",
       "      <th>9</th>\n",
       "      <td>October</td>\n",
       "      <td>0.652094</td>\n",
       "      <td>0.051777</td>\n",
       "      <td>0.043405</td>\n",
       "      <td>0.250258</td>\n",
       "      <td>0.002466</td>\n",
       "      <td>0.0000</td>\n",
       "      <td>0.0000</td>\n",
       "      <td>0.0000</td>\n",
       "    </tr>\n",
       "  </tbody>\n",
       "</table>\n",
       "</div>"
      ],
      "text/plain": [
       "         Month  Observing   Testing  Inst. Loss  Weather Loss  Tel. Loss  \\\n",
       "0      January   0.327600  0.067800    0.118800      0.051900   0.434000   \n",
       "1     February   0.341400  0.295200    0.042700      0.167400   0.153300   \n",
       "2        March   0.346900  0.154300    0.073600      0.231900   0.193200   \n",
       "3        April   0.590500  0.177300    0.057300      0.113300   0.061700   \n",
       "4          May   0.697700  0.035600    0.068300      0.083200   0.115200   \n",
       "5         June   0.660000  0.106000    0.045500      0.159900   0.028600   \n",
       "6         July   0.114700  0.003800    0.654000      0.226800   0.000700   \n",
       "7       August   0.000000  0.000000    1.000000      0.000000   0.000000   \n",
       "8    September   0.165000  0.117600    0.547600      0.167800   0.001900   \n",
       "9      October   0.652094  0.051777    0.043405      0.250258   0.002466   \n",
       "\n",
       "   DESI5577_Q1  DESI5577_AV  DESI5577_Q3  \n",
       "0       0.7755       0.6864       0.5980  \n",
       "1       0.7744       0.7099       0.6316  \n",
       "2       0.8076       0.7873       0.7486  \n",
       "3       0.8902       0.8177       0.7891  \n",
       "4       0.8970       0.8850       0.7998  \n",
       "5       0.9441       0.9131       0.7503  \n",
       "6       0.5077       0.4387       0.3984  \n",
       "7       0.6925       0.5180       0.4820  \n",
       "8       0.7686       0.6320       0.6000  \n",
       "9       0.0000       0.0000       0.0000  "
      ]
     },
     "execution_count": 126,
     "metadata": {},
     "output_type": "execute_result"
    }
   ],
   "source": [
    "month_stats"
   ]
  },
  {
   "cell_type": "markdown",
   "id": "a7f59b59-02aa-4780-97fe-a4d6e47be0d3",
   "metadata": {},
   "source": [
    "### Add a Month"
   ]
  },
  {
   "cell_type": "code",
   "execution_count": 127,
   "id": "9d702dbb-697f-42c2-a89c-927f6fa198f3",
   "metadata": {},
   "outputs": [],
   "source": [
    "month_name = 'October'\n",
    "date_start = '20210930'\n",
    "date_end = '20211101'"
   ]
  },
  {
   "cell_type": "code",
   "execution_count": 128,
   "id": "066500e0-9cb8-42b2-9dda-a0e732475e35",
   "metadata": {},
   "outputs": [],
   "source": [
    "#Run this to add the line to the month_stats and resave the file\n",
    "month_df = df[(df.index > date_start) & (df.index < date_end)]\n",
    "month_perc = month_df.sum()/month_df.sum().sum()\n",
    "add_line = pd.DataFrame([[month_name, month_perc['Observing'], month_perc['Testing'], month_perc['Inst. Loss'], month_perc['Weather Loss'], \n",
    "            month_perc['Tel. Loss'], 0, 0, 0]], columns=month_stats.columns)\n",
    "month_stats = month_stats.append(add_line)\n",
    "month_stats.to_csv('time_use_month_summary.csv',index=False)"
   ]
  },
  {
   "cell_type": "code",
   "execution_count": 129,
   "id": "4db51177-375d-41fa-9b3a-66e6d679c7f3",
   "metadata": {},
   "outputs": [
    {
     "data": {
      "text/html": [
       "<div>\n",
       "<style scoped>\n",
       "    .dataframe tbody tr th:only-of-type {\n",
       "        vertical-align: middle;\n",
       "    }\n",
       "\n",
       "    .dataframe tbody tr th {\n",
       "        vertical-align: top;\n",
       "    }\n",
       "\n",
       "    .dataframe thead th {\n",
       "        text-align: right;\n",
       "    }\n",
       "</style>\n",
       "<table border=\"1\" class=\"dataframe\">\n",
       "  <thead>\n",
       "    <tr style=\"text-align: right;\">\n",
       "      <th></th>\n",
       "      <th>Month</th>\n",
       "      <th>Observing</th>\n",
       "      <th>Testing</th>\n",
       "      <th>Inst. Loss</th>\n",
       "      <th>Weather Loss</th>\n",
       "      <th>Tel. Loss</th>\n",
       "      <th>DESI5577_Q1</th>\n",
       "      <th>DESI5577_AV</th>\n",
       "      <th>DESI5577_Q3</th>\n",
       "    </tr>\n",
       "  </thead>\n",
       "  <tbody>\n",
       "    <tr>\n",
       "      <th>0</th>\n",
       "      <td>January</td>\n",
       "      <td>0.327600</td>\n",
       "      <td>0.067800</td>\n",
       "      <td>0.118800</td>\n",
       "      <td>0.051900</td>\n",
       "      <td>0.434000</td>\n",
       "      <td>0.7755</td>\n",
       "      <td>0.6864</td>\n",
       "      <td>0.5980</td>\n",
       "    </tr>\n",
       "    <tr>\n",
       "      <th>1</th>\n",
       "      <td>February</td>\n",
       "      <td>0.341400</td>\n",
       "      <td>0.295200</td>\n",
       "      <td>0.042700</td>\n",
       "      <td>0.167400</td>\n",
       "      <td>0.153300</td>\n",
       "      <td>0.7744</td>\n",
       "      <td>0.7099</td>\n",
       "      <td>0.6316</td>\n",
       "    </tr>\n",
       "    <tr>\n",
       "      <th>2</th>\n",
       "      <td>March</td>\n",
       "      <td>0.346900</td>\n",
       "      <td>0.154300</td>\n",
       "      <td>0.073600</td>\n",
       "      <td>0.231900</td>\n",
       "      <td>0.193200</td>\n",
       "      <td>0.8076</td>\n",
       "      <td>0.7873</td>\n",
       "      <td>0.7486</td>\n",
       "    </tr>\n",
       "    <tr>\n",
       "      <th>3</th>\n",
       "      <td>April</td>\n",
       "      <td>0.590500</td>\n",
       "      <td>0.177300</td>\n",
       "      <td>0.057300</td>\n",
       "      <td>0.113300</td>\n",
       "      <td>0.061700</td>\n",
       "      <td>0.8902</td>\n",
       "      <td>0.8177</td>\n",
       "      <td>0.7891</td>\n",
       "    </tr>\n",
       "    <tr>\n",
       "      <th>4</th>\n",
       "      <td>May</td>\n",
       "      <td>0.697700</td>\n",
       "      <td>0.035600</td>\n",
       "      <td>0.068300</td>\n",
       "      <td>0.083200</td>\n",
       "      <td>0.115200</td>\n",
       "      <td>0.8970</td>\n",
       "      <td>0.8850</td>\n",
       "      <td>0.7998</td>\n",
       "    </tr>\n",
       "    <tr>\n",
       "      <th>5</th>\n",
       "      <td>June</td>\n",
       "      <td>0.660000</td>\n",
       "      <td>0.106000</td>\n",
       "      <td>0.045500</td>\n",
       "      <td>0.159900</td>\n",
       "      <td>0.028600</td>\n",
       "      <td>0.9441</td>\n",
       "      <td>0.9131</td>\n",
       "      <td>0.7503</td>\n",
       "    </tr>\n",
       "    <tr>\n",
       "      <th>6</th>\n",
       "      <td>July</td>\n",
       "      <td>0.114700</td>\n",
       "      <td>0.003800</td>\n",
       "      <td>0.654000</td>\n",
       "      <td>0.226800</td>\n",
       "      <td>0.000700</td>\n",
       "      <td>0.5077</td>\n",
       "      <td>0.4387</td>\n",
       "      <td>0.3984</td>\n",
       "    </tr>\n",
       "    <tr>\n",
       "      <th>7</th>\n",
       "      <td>August</td>\n",
       "      <td>0.000000</td>\n",
       "      <td>0.000000</td>\n",
       "      <td>1.000000</td>\n",
       "      <td>0.000000</td>\n",
       "      <td>0.000000</td>\n",
       "      <td>0.6925</td>\n",
       "      <td>0.5180</td>\n",
       "      <td>0.4820</td>\n",
       "    </tr>\n",
       "    <tr>\n",
       "      <th>8</th>\n",
       "      <td>September</td>\n",
       "      <td>0.165000</td>\n",
       "      <td>0.117600</td>\n",
       "      <td>0.547600</td>\n",
       "      <td>0.167800</td>\n",
       "      <td>0.001900</td>\n",
       "      <td>0.7686</td>\n",
       "      <td>0.6320</td>\n",
       "      <td>0.6000</td>\n",
       "    </tr>\n",
       "    <tr>\n",
       "      <th>9</th>\n",
       "      <td>October</td>\n",
       "      <td>0.652094</td>\n",
       "      <td>0.051777</td>\n",
       "      <td>0.043405</td>\n",
       "      <td>0.250258</td>\n",
       "      <td>0.002466</td>\n",
       "      <td>0.0000</td>\n",
       "      <td>0.0000</td>\n",
       "      <td>0.0000</td>\n",
       "    </tr>\n",
       "    <tr>\n",
       "      <th>0</th>\n",
       "      <td>October</td>\n",
       "      <td>0.652094</td>\n",
       "      <td>0.051777</td>\n",
       "      <td>0.043405</td>\n",
       "      <td>0.250258</td>\n",
       "      <td>0.002466</td>\n",
       "      <td>0.0000</td>\n",
       "      <td>0.0000</td>\n",
       "      <td>0.0000</td>\n",
       "    </tr>\n",
       "  </tbody>\n",
       "</table>\n",
       "</div>"
      ],
      "text/plain": [
       "         Month  Observing   Testing  Inst. Loss  Weather Loss  Tel. Loss  \\\n",
       "0      January   0.327600  0.067800    0.118800      0.051900   0.434000   \n",
       "1     February   0.341400  0.295200    0.042700      0.167400   0.153300   \n",
       "2        March   0.346900  0.154300    0.073600      0.231900   0.193200   \n",
       "3        April   0.590500  0.177300    0.057300      0.113300   0.061700   \n",
       "4          May   0.697700  0.035600    0.068300      0.083200   0.115200   \n",
       "5         June   0.660000  0.106000    0.045500      0.159900   0.028600   \n",
       "6         July   0.114700  0.003800    0.654000      0.226800   0.000700   \n",
       "7       August   0.000000  0.000000    1.000000      0.000000   0.000000   \n",
       "8    September   0.165000  0.117600    0.547600      0.167800   0.001900   \n",
       "9      October   0.652094  0.051777    0.043405      0.250258   0.002466   \n",
       "0      October   0.652094  0.051777    0.043405      0.250258   0.002466   \n",
       "\n",
       "   DESI5577_Q1  DESI5577_AV  DESI5577_Q3  \n",
       "0       0.7755       0.6864       0.5980  \n",
       "1       0.7744       0.7099       0.6316  \n",
       "2       0.8076       0.7873       0.7486  \n",
       "3       0.8902       0.8177       0.7891  \n",
       "4       0.8970       0.8850       0.7998  \n",
       "5       0.9441       0.9131       0.7503  \n",
       "6       0.5077       0.4387       0.3984  \n",
       "7       0.6925       0.5180       0.4820  \n",
       "8       0.7686       0.6320       0.6000  \n",
       "9       0.0000       0.0000       0.0000  \n",
       "0       0.0000       0.0000       0.0000  "
      ]
     },
     "execution_count": 129,
     "metadata": {},
     "output_type": "execute_result"
    }
   ],
   "source": [
    "month_stats"
   ]
  },
  {
   "cell_type": "markdown",
   "id": "ad085291-ec9e-4905-976b-e56dba87d405",
   "metadata": {},
   "source": [
    "### Plot It!"
   ]
  },
  {
   "cell_type": "code",
   "execution_count": 130,
   "id": "d0fdc513-ddfc-4907-bd6f-26e6f9aba083",
   "metadata": {},
   "outputs": [],
   "source": [
    "month_stats.set_index('Month',inplace=True)"
   ]
  },
  {
   "cell_type": "code",
   "execution_count": 131,
   "id": "8b217caf-c224-4894-bb1d-86dbb03534d5",
   "metadata": {},
   "outputs": [
    {
     "data": {
      "text/plain": [
       "<matplotlib.legend.Legend at 0x2aaadada36a0>"
      ]
     },
     "execution_count": 131,
     "metadata": {},
     "output_type": "execute_result"
    },
    {
     "data": {
      "image/png": "[encoded data removed]",
      "text/plain": [
       "<matplotlib.figure.Figure at 0x2aaadc322ef0>"
      ]
     },
     "metadata": {
      "needs_background": "light"
     },
     "output_type": "display_data"
    }
   ],
   "source": [
    "#Plot it!\n",
    "fig, ax = plt.subplots(figsize=(15, 8))\n",
    "month_stats[['Observing', 'Testing', 'Inst. Loss', 'Weather Loss','Tel. Loss',]].plot.bar(stacked=True, rot=30, ax=ax)\n",
    "#month_stats.plot(y='DESI5577_Q1',style='ko-', ax=ax)\n",
    "#month_stats.plot(y='DESI5577_AV',style='k.--', ax=ax)\n",
    "#month_stats.plot(y='DESI5577_Q3',style='k.-.', ax=ax)\n",
    "\n",
    "ax.set_ylabel('Percentage of Total Time')\n",
    "ax.legend(loc='upper center',ncol=5)\n",
    "#plt.plot(month_stats.index, month_stats['DESI5577_Q3'], 'o-', label = 'DESI5557_Q3')\n",
    "#plt.plot(month_stats.index, month_stats['DESI5577_AV'], 'o-', label = 'DESI5557_AV')"
   ]
  },
  {
   "cell_type": "code",
   "execution_count": 132,
   "id": "cb39065d-6a6b-4d59-8cc3-2cbea80f8304",
   "metadata": {},
   "outputs": [
    {
     "data": {
      "text/plain": [
       "<matplotlib.axes._subplots.AxesSubplot at 0x2aaadad5da90>"
      ]
     },
     "execution_count": 132,
     "metadata": {},
     "output_type": "execute_result"
    },
    {
     "data": {
      "image/png": "[encoded data removed]",
      "text/plain": [
       "<matplotlib.figure.Figure at 0x2aaadae8ecf8>"
      ]
     },
     "metadata": {},
     "output_type": "display_data"
    }
   ],
   "source": [
    "#Pie Chart for one month\n",
    "month = 'October'\n",
    "\n",
    "df = month_stats[month_stats.index == month][['Observing', 'Testing', 'Inst. Loss', 'Weather Loss','Tel. Loss']]\n",
    "pie_df = pd.DataFrame(columns=['time','names'])\n",
    "pie_df['time'] = df.iloc[0].values\n",
    "pie_df['names'] = df.columns\n",
    "\n",
    "fig, ax = plt.subplots(1, figsize=(10,10))\n",
    "pie_df.set_index('names').plot.pie(y='time',ax=ax, autopct='%.2f',labels=None, fontsize=14)"
   ]
  },
  {
   "cell_type": "markdown",
   "id": "4e80fa1b-7613-41a3-ac73-df5360f0dda9",
   "metadata": {},
   "source": [
    "## Collect data from DataBase"
   ]
  },
  {
   "cell_type": "code",
   "execution_count": 133,
   "id": "ef62c242-3453-4a79-8516-97251408a8e5",
   "metadata": {},
   "outputs": [],
   "source": [
    "conn = psycopg2.connect(host=\"db.replicator.dev-cattle.stable.spin.nersc.org\", port=\"60042\", database=\"desi_dev\", user=\"desi_reader\", password=\"reader\")"
   ]
  },
  {
   "cell_type": "code",
   "execution_count": 134,
   "id": "74e1fabc-b61f-4f73-9724-9701c930a889",
   "metadata": {},
   "outputs": [],
   "source": [
    "exp_df = pd.read_sql_query(\"SELECT * FROM exposure WHERE night > '{}'\".format(date), conn) #Uses date entered above"
   ]
  },
  {
   "cell_type": "code",
   "execution_count": 135,
   "id": "8d3d0cbc-7388-4770-abe7-d99f62dc4e58",
   "metadata": {},
   "outputs": [
    {
     "data": {
      "text/plain": [
       "'20210930'"
      ]
     },
     "execution_count": 135,
     "metadata": {},
     "output_type": "execute_result"
    }
   ],
   "source": [
    "date"
   ]
  },
  {
   "cell_type": "code",
   "execution_count": 136,
   "id": "fedfe05c-d3e3-4464-b708-a53efc8d337c",
   "metadata": {},
   "outputs": [
    {
     "name": "stdout",
     "output_type": "stream",
     "text": [
      "20211001 36\n",
      "20211002 29\n",
      "20211003 18\n",
      "20211004 0\n",
      "20211005 25\n",
      "20211006 20\n",
      "20211007 12\n",
      "20211008 32\n",
      "20211009 26\n",
      "20211010 32\n",
      "20211011 0\n",
      "20211012 0\n",
      "20211013 27\n",
      "20211014 24\n",
      "20211015 34\n",
      "20211016 47\n",
      "20211017 17\n",
      "20211018 7\n",
      "20211019 41\n",
      "20211020 28\n",
      "20211021 31\n",
      "20211022 29\n",
      "20211023 40\n",
      "20211024 39\n",
      "20211025 6\n",
      "20211026 35\n",
      "20211027 26\n",
      "20211028 31\n",
      "20211029 0\n"
     ]
    }
   ],
   "source": [
    "#Gets how many exposures were completed every night\n",
    "total = 0\n",
    "for date in np.unique(exp_df.night):\n",
    "    sci = exp_df[(exp_df.night == date) & (exp_df.sequence == 'DESI')]\n",
    "    total+=len(sci)\n",
    "    print(date, len(sci))"
   ]
  },
  {
   "cell_type": "markdown",
   "id": "035039fc-1d8d-4b9f-b832-ee78506ed03f",
   "metadata": {},
   "source": [
    "## Advanced - Under work"
   ]
  },
  {
   "cell_type": "code",
   "execution_count": 138,
   "id": "e8c45e7b-7da2-46f3-b9db-ad6204d7102d",
   "metadata": {},
   "outputs": [],
   "source": [
    "#This is Klaus's stuff. Need to make a cleaner interface and call only a certain amount of data\n",
    "accumulated_df = pd.read_sql_query(\"SELECT * FROM performance_accumulated WHERE obsday>'{}'\".format(date), conn)"
   ]
  },
  {
   "cell_type": "code",
   "execution_count": 139,
   "id": "c3b16f38-0ddd-4594-ac47-9c9ac9e4d29b",
   "metadata": {},
   "outputs": [
    {
     "data": {
      "text/html": [
       "<div>\n",
       "<style scoped>\n",
       "    .dataframe tbody tr th:only-of-type {\n",
       "        vertical-align: middle;\n",
       "    }\n",
       "\n",
       "    .dataframe tbody tr th {\n",
       "        vertical-align: top;\n",
       "    }\n",
       "\n",
       "    .dataframe thead th {\n",
       "        text-align: right;\n",
       "    }\n",
       "</style>\n",
       "<table border=\"1\" class=\"dataframe\">\n",
       "  <thead>\n",
       "    <tr style=\"text-align: right;\">\n",
       "      <th></th>\n",
       "      <th>performance_accumulated</th>\n",
       "      <th>system_ready</th>\n",
       "      <th>nfs</th>\n",
       "      <th>ocs_active</th>\n",
       "      <th>guider_loop</th>\n",
       "      <th>focus_loop</th>\n",
       "      <th>sky_loop</th>\n",
       "      <th>illuminator</th>\n",
       "      <th>specman_shutter</th>\n",
       "      <th>specman_digitize</th>\n",
       "      <th>...</th>\n",
       "      <th>about_to_stop</th>\n",
       "      <th>stop_request</th>\n",
       "      <th>monitored</th>\n",
       "      <th>time_between_twilight</th>\n",
       "      <th>handle_fvc</th>\n",
       "      <th>gfaadjust</th>\n",
       "      <th>nfsadjust</th>\n",
       "      <th>surveyobs</th>\n",
       "      <th>obs</th>\n",
       "      <th>nfsrequest</th>\n",
       "    </tr>\n",
       "  </thead>\n",
       "  <tbody>\n",
       "  </tbody>\n",
       "</table>\n",
       "<p>0 rows × 60 columns</p>\n",
       "</div>"
      ],
      "text/plain": [
       "Empty DataFrame\n",
       "Columns: [performance_accumulated, system_ready, nfs, ocs_active, guider_loop, focus_loop, sky_loop, illuminator, specman_shutter, specman_digitize, tcs_tracking, tcs_incontrol, tcs_slewing, gfa_vccd, spectrograph_vccd, gfa_opsstate, petal_opsstate, opsstate, weather, instrument, mayall, other, obsday, time_recorded, dos_instance, row_status, row_status_time, row_status_user, desi_interlock, ocs_monitor, mirror_cover, dome_shutter, seq_active, fiducials, move_prepare, move_execute, nfsproc, gfaproc, posproc, fvcproc, forproc, spotmatch, last_updated, acquisition, idle, specman_prepare, ready, fvc, about_to_split, split_request, about_to_stop, stop_request, monitored, time_between_twilight, handle_fvc, gfaadjust, nfsadjust, surveyobs, obs, nfsrequest]\n",
       "Index: []\n",
       "\n",
       "[0 rows x 60 columns]"
      ]
     },
     "execution_count": 139,
     "metadata": {},
     "output_type": "execute_result"
    }
   ],
   "source": [
    "accumulated_df.head()"
   ]
  },
  {
   "cell_type": "code",
   "execution_count": 43,
   "id": "43409ffe-0555-4fd2-88e7-38e67147266e",
   "metadata": {},
   "outputs": [],
   "source": [
    "ICS_Data = []\n",
    "for date in dates:\n",
    "    ics = accumulated_df[accumulated_df['obsday'] == date][['idle','opsstate','weather','instrument','mayall','other','acquisition','specman_shutter','time_between_twilight']]\n",
    "    ics['observing'] = ics['acquisition'] + ics['specman_shutter']\n",
    "    if len(ics)> 0:\n",
    "        x = -1\n",
    "        empty = True\n",
    "        while empty:\n",
    "            if ics.iloc[x]['opsstate'] == float(0):\n",
    "                x += -1\n",
    "            else:\n",
    "                total_time = ics.iloc[x]['time_between_twilight']/3600.\n",
    "                b = ics.iloc[x]/3600.\n",
    "                empty = False\n",
    "        ICS_Data.append([date,b.observing,b.idle,b.weather,b.instrument,b.mayall,b.other])\n",
    "ICS_df = pd.DataFrame(ICS_Data, columns = ['date','observing','idle','weather','instrument','mayall','other'])\n",
    "ICS_df.sort_values('date',inplace=True)\n",
    "ICS_df.set_index('date',inplace=True)"
   ]
  },
  {
   "cell_type": "code",
   "execution_count": 46,
   "id": "bbd0da6d-29e2-4408-a38b-a46dcfc06154",
   "metadata": {},
   "outputs": [
    {
     "data": {
      "text/plain": [
       "Text(0.5,0,'Date')"
      ]
     },
     "execution_count": 46,
     "metadata": {},
     "output_type": "execute_result"
    },
    {
     "data": {
      "image/png": "[encoded data removed]",
      "text/plain": [
       "<matplotlib.figure.Figure at 0x2aaade8c8550>"
      ]
     },
     "metadata": {
      "needs_background": "light"
     },
     "output_type": "display_data"
    }
   ],
   "source": [
    "ax = ICS_df.plot.bar(stacked=True, figsize=(12,8))\n",
    "ax.set_ylabel(\"Hours\")\n",
    "ax.set_xlabel(\"Date\")"
   ]
  },
  {
   "cell_type": "markdown",
   "id": "98fa9584-8e4b-4466-b10a-34a6d7207b4b",
   "metadata": {},
   "source": [
    "## Compare Inputs from Observers to ICS DB"
   ]
  },
  {
   "cell_type": "code",
   "execution_count": 56,
   "id": "84df0972-c5c6-40a1-995c-dcdfe6b272ff",
   "metadata": {},
   "outputs": [],
   "source": [
    "def compare_plots(date):\n",
    "    ics = accumulated_df[accumulated_df['obsday'] == date][['idle','opsstate','weather','instrument','mayall','other','acquisition','specman_shutter','time_between_twilight']]\n",
    "\n",
    "    ics['observing'] = ics['acquisition'] + ics['specman_shutter']\n",
    "    x = -1\n",
    "    empty = True\n",
    "    while empty:\n",
    "        if ics.iloc[x]['opsstate'] == float(0):\n",
    "            x += -1\n",
    "        else:\n",
    "            total_time = ics.iloc[x]['time_between_twilight']/3600.\n",
    "            b = ics.iloc[x]/3600./total_time\n",
    "            empty = False\n",
    "            \n",
    "    observers = df[df.index == date]\n",
    "    observers.rename(columns={'obs_time':'observing','test_time':'testing','inst_loss':'instrument','tel_loss':'mayall','weather_loss':'weather'},inplace=True)\n",
    "    a = observers.iloc[0]/total_time\n",
    "    \n",
    "    data = [[a.observing,0,a.weather,a.instrument,a.mayall,0,a.testing],\n",
    "       [b.observing,b.idle,b.weather,b.instrument,b.mayall,b.other,0]]\n",
    "    new_df = pd.DataFrame(data,columns=['observing','idle','weather','instrument','mayall','other','testing'])\n",
    "    new_df.index = ['Observers','ICS']\n",
    "    \n",
    "    new_df.plot.bar(stacked=True,figsize=(8,6))\n",
    "\n",
    "    x = 0\n",
    "    for i, row in new_df.iterrows():\n",
    "        plt.text( x-0.1, row.sum()+.05,str(np.round(row.sum(),3)), va='center')\n",
    "        x += 1\n",
    "    plt.title(date)\n",
    "    plt.ylabel(\"% of Total Time: {:.3f} hrs\".format(total_time))\n",
    "    plt.axhline(1.,c='k',ls='--')\n",
    "    y_high = np.max([1,new_df.loc['Observers'].sum(), new_df.loc['ICS'].sum()])\n",
    "    plt.ylim(0,y_high+0.1)\n",
    "    return new_df"
   ]
  },
  {
   "cell_type": "code",
   "execution_count": 64,
   "id": "25f824ae-b940-4bbe-8e07-45809a690f46",
   "metadata": {},
   "outputs": [
    {
     "data": {
      "text/html": [
       "<div>\n",
       "<style scoped>\n",
       "    .dataframe tbody tr th:only-of-type {\n",
       "        vertical-align: middle;\n",
       "    }\n",
       "\n",
       "    .dataframe tbody tr th {\n",
       "        vertical-align: top;\n",
       "    }\n",
       "\n",
       "    .dataframe thead th {\n",
       "        text-align: right;\n",
       "    }\n",
       "</style>\n",
       "<table border=\"1\" class=\"dataframe\">\n",
       "  <thead>\n",
       "    <tr style=\"text-align: right;\">\n",
       "      <th></th>\n",
       "      <th>observing</th>\n",
       "      <th>idle</th>\n",
       "      <th>weather</th>\n",
       "      <th>instrument</th>\n",
       "      <th>mayall</th>\n",
       "      <th>other</th>\n",
       "      <th>testing</th>\n",
       "    </tr>\n",
       "  </thead>\n",
       "  <tbody>\n",
       "    <tr>\n",
       "      <th>Observers</th>\n",
       "      <td>0.587513</td>\n",
       "      <td>0.000000</td>\n",
       "      <td>0.572337</td>\n",
       "      <td>0.01084</td>\n",
       "      <td>0.0</td>\n",
       "      <td>0.0</td>\n",
       "      <td>0.0</td>\n",
       "    </tr>\n",
       "    <tr>\n",
       "      <th>ICS</th>\n",
       "      <td>0.259177</td>\n",
       "      <td>0.005357</td>\n",
       "      <td>0.671102</td>\n",
       "      <td>0.00464</td>\n",
       "      <td>0.0</td>\n",
       "      <td>0.0</td>\n",
       "      <td>0.0</td>\n",
       "    </tr>\n",
       "  </tbody>\n",
       "</table>\n",
       "</div>"
      ],
      "text/plain": [
       "           observing      idle   weather  instrument  mayall  other  testing\n",
       "Observers   0.587513  0.000000  0.572337     0.01084     0.0    0.0      0.0\n",
       "ICS         0.259177  0.005357  0.671102     0.00464     0.0    0.0      0.0"
      ]
     },
     "execution_count": 64,
     "metadata": {},
     "output_type": "execute_result"
    },
    {
     "data": {
      "image/png": "[encoded data removed]",
      "text/plain": [
       "<matplotlib.figure.Figure at 0x2aaade78d978>"
      ]
     },
     "metadata": {
      "needs_background": "light"
     },
     "output_type": "display_data"
    }
   ],
   "source": [
    "compare_plots('20210614')"
   ]
  },
  {
   "cell_type": "code",
   "execution_count": null,
   "id": "3291401e-0c79-4a31-bfa0-dd330ddd35c8",
   "metadata": {},
   "outputs": [],
   "source": []
  }
 ],
 "metadata": {
  "kernelspec": {
   "display_name": "DESI 19.12",
   "language": "python",
   "name": "desi-19.12"
  },
  "language_info": {
   "codemirror_mode": {
    "name": "ipython",
    "version": 3
   },
   "file_extension": ".py",
   "mimetype": "text/x-python",
   "name": "python",
   "nbconvert_exporter": "python",
   "pygments_lexer": "ipython3",
   "version": "3.6.6"
  }
 },
 "nbformat": 4,
 "nbformat_minor": 5
}
