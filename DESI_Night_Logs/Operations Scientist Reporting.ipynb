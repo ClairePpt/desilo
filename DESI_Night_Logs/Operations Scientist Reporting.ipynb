{
 "cells": [
  {
   "cell_type": "markdown",
   "metadata": {},
   "source": [
    "# OPERATIONS SCIENTIST REPORTING\n",
    "\n",
    "This notebook is organized as follow :\n",
    "\n",
    "1) Initializing the Night Log    \n",
    "2) Start Up & Calibrations    \n",
    "3) Observing    \n",
    "4) Problems   \n",
    "5) Support\n",
    "\n",
    "**Carefully follow the instructions.**\n",
    "\n",
    "Start by section 1) in order to get started with the Night Log.\n",
    "\n",
    "Go to section 2) and then section 3) in order to give a step by step detailed account of the night.\n",
    "\n",
    "When necessary, go to section 4) to report a problem or section 5) to add the name of a person who acted as support during the night.\n"
   ]
  },
  {
   "cell_type": "markdown",
   "metadata": {},
   "source": [
    "## 1) Initializing the Night Log\n",
    "\n",
    "Start by running the first cell below."
   ]
  },
  {
   "cell_type": "code",
   "execution_count": 1,
   "metadata": {},
   "outputs": [],
   "source": [
    "import nightlog as nl"
   ]
  },
  {
   "cell_type": "markdown",
   "metadata": {},
   "source": [
    "Complete the fields \"year\", \"month\", \"day\", then run the cell below."
   ]
  },
  {
   "cell_type": "code",
   "execution_count": 2,
   "metadata": {},
   "outputs": [
    {
     "name": "stdout",
     "output_type": "stream",
     "text": [
      "Your obsday is 20200409\n"
     ]
    }
   ],
   "source": [
    "## all input should be as strings, ASCII characters only\n",
    "\n",
    "year = \"2020\"  # Enter the year\n",
    "month = \"04\"   # Enter the month [01,02,03,04,05,06,07,08,09,10,11,12]\n",
    "day = \"09\"     # Enter the day [01,02,03,04,05,06,07,08,09,...,31]\n",
    "\n",
    "\n",
    "#! Do not touch the following lines !#\n",
    "DESI_Log=nl.NightLog(year,month,day)\n",
    "DESI_Log.initializing()"
   ]
  },
  {
   "cell_type": "markdown",
   "metadata": {},
   "source": [
    "### Useful links\n",
    "\n",
    "Ephemeris : https://www.noao.edu/kpno/skycal/skycal.html \n",
    "\n",
    "LO (DESI Lead Observer) : https://desi.lbl.gov/trac/wiki/DESIOperations/MeetLOs \n",
    "\n",
    "OA (NOIR Lab Telescope Operator) : http://www-kpno.kpno.noao.edu/observing/duty.html \n",
    "\n",
    "FYI, the Telescope Operator slack handle is @MayallOA\n",
    "\n",
    "Complete the fields \"Operations Scientist\", \"Lead Observer\", \"Telescope Operator\", \"Ephemerid\", \"Weather conditions at sunset\", and finally, Run the cell below."
   ]
  },
  {
   "cell_type": "code",
   "execution_count": 3,
   "metadata": {},
   "outputs": [],
   "source": [
    "## all input should be as strings, ASCII characters only\n",
    "\n",
    "# Operations Scientist\n",
    "your_firstname = \"John\"\n",
    "your_lastname = \"Smith\"\n",
    "\n",
    "# Lead Observer\n",
    "LO_firstname = \"Molly\"\n",
    "LO_lastname = \"Jackson\"\n",
    "\n",
    "# Telescope Operator (a.k.a. Observing Assistant)\n",
    "OA_firstname = \"Paul\"\n",
    "OA_lastname = \"Lawson\"\n",
    "\n",
    "# Ephemerid in local time (if 6:14 pm, enter \"1814\"; if 4:52 am, enter \"0452\")\n",
    "time_sunset = \"1838\"                       # Enter time of sunset             \n",
    "time_18_deg_twilight_ends = \"1956\"         # Enter time of 18 degree twilight after sunset\n",
    "time_18_deg_twilight_starts = \"0513\"       # Enter time of 18 degree twilight before sunset\n",
    "time_sunrise = \"0631\"                     # Enter time of sunrise\n",
    "time_moonrise = \"0127\"         # Enter the exact time if between sunset and sunrise, otherwise enter \"daytime\" \n",
    "time_moonset = \"daytime\"           # Enter the exact time if between sunset and sunrise, otherwise enter \"daytime\" \n",
    "illumination = \"50\"                      # Enter a number between 0 and 100 \n",
    "\n",
    "# Describe the weather conditions at sunset\n",
    "weather_conditions = \"clear skies.\"\n",
    "\n",
    "\n",
    "#! Do not touch the following line !#\n",
    "DESI_Log.get_started_os(your_firstname,your_lastname,LO_firstname,LO_lastname,OA_firstname,OA_lastname,time_sunset,time_18_deg_twilight_ends,time_18_deg_twilight_starts,time_sunrise,time_moonrise,time_moonset,illumination,weather_conditions)\n"
   ]
  },
  {
   "cell_type": "markdown",
   "metadata": {},
   "source": [
    "## 2) Start Up & Calibrations\n",
    "\n",
    "This section concerns events related to starting the DESI instance, doing twilight/closed dome calibrations pre-observing, and focus scans.\n",
    "\n",
    "Complete and Run the cell _i) \"Add comment/remark\"_ in order to add a comment to the Start Up & Calibrations progess detail.\n",
    "\n",
    "Complete and Run the cell _ii) \"Add sequence\"_ to log a sequence that was submitted.\n",
    "\n",
    "Complete and Run cells _iii)_ or _iv)_ to log a script that was submitted.  _iii)_ is for scripts to calibrate _spectrographs_, _iv)_ is for _focus scan_."
   ]
  },
  {
   "cell_type": "markdown",
   "metadata": {},
   "source": [
    "### i) Add comment / remark"
   ]
  },
  {
   "cell_type": "code",
   "execution_count": 4,
   "metadata": {},
   "outputs": [],
   "source": [
    "## all input should be as strings, ASCII characters only\n",
    "\n",
    "# Time in local time (if 6:14 pm, enter \"1814\"; if 4:52 am, enter \"0452\")\n",
    "time = \"2007\"\n",
    "\n",
    "# Enter your comment / remark below\n",
    "remark = \"this is a sentence\"\n",
    "\n",
    "\n",
    "#! Do not touch the following line !#\n",
    "DESI_Log.supcal_add_com_os(time,remark)"
   ]
  },
  {
   "cell_type": "markdown",
   "metadata": {},
   "source": [
    "### ii) Add sequence"
   ]
  },
  {
   "cell_type": "code",
   "execution_count": 5,
   "metadata": {},
   "outputs": [],
   "source": [
    "## all input should be as strings, ASCII characters only\n",
    "\n",
    "# Time in local time (if 6:14 pm, enter \"1814\"; if 4:52 am, enter \"0452\")\n",
    "time = \"2010\"\n",
    "\n",
    "# Enter the exposure number\n",
    "exp_num = \"12345\"\n",
    "\n",
    "# Enter the exposure type (Zero, Dark, FVC, DESI, etc)\n",
    "exp_type = \"Zero\"\n",
    "\n",
    "# Enter additional useful information (exposure time, count, reason for executing this sequence)\n",
    "comment = \"count=5,exptime=20s\"\n",
    "\n",
    "#! Do not touch the following line !#\n",
    "DESI_Log.supcal_add_seq_os(time,exp_num,exp_type,comment)"
   ]
  },
  {
   "cell_type": "markdown",
   "metadata": {},
   "source": [
    "### iii) Add spectrograph calibration script (twilight or calibration lamps)"
   ]
  },
  {
   "cell_type": "code",
   "execution_count": 6,
   "metadata": {},
   "outputs": [],
   "source": [
    "## all input should be as strings, ASCII characters only\n",
    "\n",
    "# Time when the script was started (if 6:14 pm, enter \"1814\"; if 4:52 am, enter \"0452\")\n",
    "time_start = \"2013\"\n",
    "\n",
    "# Number of the first exposure\n",
    "exp_first = \"12350\"\n",
    "\n",
    "# Name of the script\n",
    "script = \"white_spot_calib_short.json\"\n",
    "\n",
    "# Number of the last (valid) exposure\n",
    "exp_last = \"12375\"\n",
    "\n",
    "# If script crashes, enter time of the crash and state the issue in the 'comment' option below ; \n",
    "## otherwise leave empty (i.e. time_stop = \"\")\n",
    "time_stop = \"2045\"\n",
    "\n",
    "# Enter additional useful information {if the script encounters an issue, state the exposure number(s) of\n",
    "## the unsuccessful exposure(s) -or- where the issue occured}\n",
    "comment = \"no special issue\"\n",
    "\n",
    "#! Do not touch the following line !#\n",
    "DESI_Log.supcal_add_spec_script_os(time_start,exp_first,script,time_stop,exp_last,comment)"
   ]
  },
  {
   "cell_type": "markdown",
   "metadata": {},
   "source": [
    "### iv) Add focus scan script"
   ]
  },
  {
   "cell_type": "code",
   "execution_count": 7,
   "metadata": {},
   "outputs": [],
   "source": [
    "## all input should be as strings, ASCII characters only\n",
    "\n",
    "# Time when the script was started (if 6:14 pm, enter \"1814\"; if 4:52 am, enter \"0452\")\n",
    "time_start = \"2052\"\n",
    "\n",
    "# Number of the first exposure\n",
    "exp_first = \"12376\"\n",
    "\n",
    "# Name of the script\n",
    "script = \"focus_7.json\"\n",
    "\n",
    "# Number of the last (valid) exposure\n",
    "exp_last = \"12382\"\n",
    "\n",
    "# If script crashes, enter time of the crash and state the issue in the 'comment' option below ; \n",
    "## otherwise leave empty (i.e. time_stop = \"\")\n",
    "time_stop = \"2056\"\n",
    "\n",
    "# Enter additional useful information {if the script encounters an issue, state the exposure number(s) of\n",
    "## the unsuccessful exposure(s) -or- where the issue occured}\n",
    "comment = \"pretty much in focus\"\n",
    "\n",
    "# Enter value of the trim\n",
    "trim = \"+57\"\n",
    "\n",
    "#! Do not touch the following line !#\n",
    "DESI_Log.supcal_add_focus_script_os(time_start,exp_first,script,time_stop,exp_last,comment,trim)"
   ]
  },
  {
   "cell_type": "markdown",
   "metadata": {},
   "source": [
    "## 3) Observing\n",
    "\n",
    "This section concerns events happening after the Start Up & Calibrations procedures. \n",
    "\n",
    "At this point, you should be on sky (except if the weather is bad, in which case you may be with closed dome).\n",
    "\n",
    "Complete and Run the cell _o) \"Start new observing item\"_ to give a header to the set of acquisition you are about to start.\n",
    "\n",
    "Complete and Run the cell _i) \"Add sequence\"_ to log a sequence that was submitted.\n",
    "\n",
    "Complete and Run the cell _ii) \"Add comment/remark\"_ in order to add a comment on the observing progess detail.\n",
    "\n",
    "Complete and Run cells _iii)_ to log a script that was submitted."
   ]
  },
  {
   "cell_type": "markdown",
   "metadata": {},
   "source": [
    "### o) Start new observing item"
   ]
  },
  {
   "cell_type": "code",
   "execution_count": 8,
   "metadata": {},
   "outputs": [],
   "source": [
    "## all input should be as strings, ASCII characters only\n",
    "\n",
    "# Time when starting the set of acquisitions (if 6:14 pm, enter \"1814\"; if 4:52 am, enter \"0452\")\n",
    "time = \"2103\"\n",
    "\n",
    "# Enter the header for this new observing item (i.e. \"QSO+LRG tile 68001\" or \"Dithering test on tile 63120\")\n",
    "header = \"ELG+QSO tiles\"\n",
    "\n",
    "#! Do not touch the following line !#\n",
    "DESI_Log.obs_new_item_os(time,header)"
   ]
  },
  {
   "cell_type": "markdown",
   "metadata": {},
   "source": [
    "### i) Add sequence"
   ]
  },
  {
   "cell_type": "code",
   "execution_count": 9,
   "metadata": {},
   "outputs": [],
   "source": [
    "## all input should be as strings, ASCII characters only\n",
    "\n",
    "# Time in local time (if 6:14 pm, enter \"1814\"; if 4:52 am, enter \"0452\")\n",
    "time = \"2105\"\n",
    "\n",
    "# Enter the exposure number\n",
    "exp_num = \"12383\"\n",
    "\n",
    "# Enter the exposure type (Zero, Dark, FVC, DESI, etc)\n",
    "exp_type = \"DESI\"\n",
    "\n",
    "# Enter the tile info (leave the following fields blank if not goint to a tile, i.e. tile_number/type = \"\")\n",
    "tile_number = \"68001\"\n",
    "tile_type = \"QSO+LRG\"    # Choose between \"QSO+LRG\", \"ELG\", \"BGS\", \"MW\"\n",
    "\n",
    "# Enter additional useful information (exposure time, count, reason for executing this sequence)\n",
    "comment = \"count=5,exptime=900s\"\n",
    "\n",
    "#! Do not touch the following line !#\n",
    "DESI_Log.obs_add_seq_os(time,exp_num,exp_type,tile_number,tile_type,comment)"
   ]
  },
  {
   "cell_type": "markdown",
   "metadata": {},
   "source": [
    "### ii) Add comment / remark"
   ]
  },
  {
   "cell_type": "code",
   "execution_count": 10,
   "metadata": {},
   "outputs": [],
   "source": [
    "## all input should be as strings, ASCII characters only\n",
    "\n",
    "# Time in local time (if 6:14 pm, enter \"1814\"; if 4:52 am, enter \"0452\")\n",
    "time = \"2137\"\n",
    "\n",
    "# Enter your comment / remark below\n",
    "remark = \"closing the lover\"\n",
    "\n",
    "\n",
    "#! Do not touch the following line !#\n",
    "DESI_Log.obs_add_com_os(time,remark)"
   ]
  },
  {
   "cell_type": "markdown",
   "metadata": {},
   "source": [
    "### iii) Add script"
   ]
  },
  {
   "cell_type": "code",
   "execution_count": 11,
   "metadata": {},
   "outputs": [],
   "source": [
    "## all input should be as strings, ASCII characters only\n",
    "\n",
    "# Time when the script was started (if 6:14 pm, enter \"1814\"; if 4:52 am, enter \"0452\")\n",
    "time_start = \"2148\"\n",
    "\n",
    "# Number of the first exposure\n",
    "exp_first = \"12388\"\n",
    "\n",
    "# Name of the script\n",
    "script = \"dithering.json\"\n",
    "\n",
    "# Number of the last (valid) exposure\n",
    "exp_last = \"12408\"\n",
    "\n",
    "# If script crashes, enter time of the crash and state the issue in the 'comment' option below ; \n",
    "## otherwise leave empty (i.e. time_stop = \"\")\n",
    "time_stop = \"2217\"\n",
    "\n",
    "# Enter additional useful information {if the script encounters an issue, state the exposure number(s) of\n",
    "## the unsuccessful exposure(s) -or- where the issue occured}\n",
    "comment = \"adding a comment here\"\n",
    "\n",
    "#! Do not touch the following line !#\n",
    "DESI_Log.obs_add_script_os(time_start,exp_first,script,time_stop,exp_last,comment)"
   ]
  },
  {
   "cell_type": "markdown",
   "metadata": {},
   "source": [
    "## 4) Problems"
   ]
  },
  {
   "cell_type": "code",
   "execution_count": null,
   "metadata": {},
   "outputs": [],
   "source": [
    "## all input should be as strings, ASCII characters only\n"
   ]
  }
 ],
 "metadata": {
  "kernelspec": {
   "display_name": "Python 3",
   "language": "python",
   "name": "python3"
  },
  "language_info": {
   "codemirror_mode": {
    "name": "ipython",
    "version": 3
   },
   "file_extension": ".py",
   "mimetype": "text/x-python",
   "name": "python",
   "nbconvert_exporter": "python",
   "pygments_lexer": "ipython3",
   "version": "3.7.3"
  }
 },
 "nbformat": 4,
 "nbformat_minor": 2
}
