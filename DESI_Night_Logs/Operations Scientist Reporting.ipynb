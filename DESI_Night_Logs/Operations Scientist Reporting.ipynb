{
 "cells": [
  {
   "cell_type": "markdown",
   "metadata": {},
   "source": [
    "# OPERATIONS SCIENTIST REPORTING\n",
    "\n",
    "This notebook is organized as follow :\n",
    "\n",
    "1) Initializing the Night Log    \n",
    "2) Getting started    \n",
    "3) Start Up & Calibrations    \n",
    "4) Observing    \n",
    "5) Problems    \n",
    "\n",
    "Start by filling in section 1), then section 2).\n",
    "Once these are complete, do not come back to it.\n",
    "\n"
   ]
  },
  {
   "cell_type": "markdown",
   "metadata": {},
   "source": [
    "## 1) Initializing the Night Log"
   ]
  },
  {
   "cell_type": "code",
   "execution_count": 1,
   "metadata": {},
   "outputs": [],
   "source": [
    "import nightlog as nl"
   ]
  },
  {
   "cell_type": "code",
   "execution_count": 2,
   "metadata": {},
   "outputs": [
    {
     "name": "stdout",
     "output_type": "stream",
     "text": [
      "Your obsday is 20200409\n"
     ]
    }
   ],
   "source": [
    "## all input should be as strings, ASCII characters only\n",
    "\n",
    "year = \"2020\"  # Enter the year\n",
    "month = \"04\"   # Enter the month [01,02,03,04,05,06,07,08,09,10,11,12]\n",
    "day = \"09\"     # Enter the day [01,02,03,04,05,06,07,08,09,...,31]\n",
    "\n",
    "DESI_Log=nl.NightLog(year,month,day)\n",
    "DESI_Log.get_started()"
   ]
  },
  {
   "cell_type": "markdown",
   "metadata": {},
   "source": [
    "## 2) Getting started\n",
    "\n",
    "Ephemeris : https://www.noao.edu/kpno/skycal/skycal.html \n",
    "\n",
    "LO (DESI Lead Observer) : https://desi.lbl.gov/trac/wiki/DESIOperations/MeetLOs \n",
    "\n",
    "OA (NOIR Lab Telescope Operator) : http://www-kpno.kpno.noao.edu/observing/duty.html \n",
    "\n",
    "FYI, the Telescope Operator slack handle is @MayallOA"
   ]
  },
  {
   "cell_type": "code",
   "execution_count": 3,
   "metadata": {},
   "outputs": [],
   "source": [
    "## all input should be as strings, ASCII characters only\n",
    "\n",
    "# Operations Scientist\n",
    "your_firstname = \"\"\n",
    "your_lastname = \"\"\n",
    "\n",
    "# Lead Observer\n",
    "LO_firstname = \"\"\n",
    "LO_lastname = \"\"\n",
    "\n",
    "# Telescope Operator (a.k.a. Observing Assistant)\n",
    "OA_firstname = \"\"\n",
    "OA_lastname = \"\"\n",
    "\n",
    "# Ephemerids in local time (if 6:14 pm, enter \"1814\"; if 4:52 am, enter \"0452\")\n",
    "time_sunset = \"\"                       # Enter time of sunset             \n",
    "time_18_deg_twilight_ends = \"\"         # Enter time of 18 degree twilight after sunset\n",
    "time_18_deg_twilight_starts = \"\"       # Enter time of 18 degree twilight before sunset\n",
    "time_sunriset = \"\"                     # Enter time of sunrise\n",
    "time_moonriset = \"\"         # Enter the exact time if between sunset and sunrise, otherwise enter \"daytime\" \n",
    "time_moonset = \"\"           # Enter the exact time if between sunset and sunrise, otherwise enter \"daytime\" \n",
    "illumination = \"\"                      # Enter a number between 0 and 100 \n",
    "\n",
    "# Describe the weather conditions at sunset\n",
    "weather conditions = \"\""
   ]
  },
  {
   "cell_type": "code",
   "execution_count": null,
   "metadata": {},
   "outputs": [],
   "source": []
  }
 ],
 "metadata": {
  "kernelspec": {
   "display_name": "Python 3",
   "language": "python",
   "name": "python3"
  },
  "language_info": {
   "codemirror_mode": {
    "name": "ipython",
    "version": 3
   },
   "file_extension": ".py",
   "mimetype": "text/x-python",
   "name": "python",
   "nbconvert_exporter": "python",
   "pygments_lexer": "ipython3",
   "version": "3.7.3"
  }
 },
 "nbformat": 4,
 "nbformat_minor": 2
}
