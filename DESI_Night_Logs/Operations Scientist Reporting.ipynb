{
 "cells": [
  {
   "cell_type": "markdown",
   "metadata": {},
   "source": [
    "# OPERATIONS SCIENTIST REPORTING\n",
    "\n",
    "This notebook is organized as follow :\n",
    "\n",
    "1) Initializing the Night Log    \n",
    "2) Start Up & Calibrations    \n",
    "3) Observing    \n",
    "4) Problems    \n",
    "\n",
    "Start by filling in section 1).\n",
    "Once it is complete, do not come back to it.\n",
    "\n"
   ]
  },
  {
   "cell_type": "markdown",
   "metadata": {},
   "source": [
    "## 1) Initializing the Night Log\n",
    "\n",
    "Start by running the first cell below."
   ]
  },
  {
   "cell_type": "code",
   "execution_count": 1,
   "metadata": {},
   "outputs": [],
   "source": [
    "import nightlog as nl"
   ]
  },
  {
   "cell_type": "markdown",
   "metadata": {},
   "source": [
    "Complete the fields \"year\", \"month\", \"day\", then run the cell below."
   ]
  },
  {
   "cell_type": "code",
   "execution_count": 12,
   "metadata": {},
   "outputs": [
    {
     "name": "stdout",
     "output_type": "stream",
     "text": [
      "Your obsday is 20210409\n"
     ]
    }
   ],
   "source": [
    "## all input should be as strings, ASCII characters only\n",
    "\n",
    "year = \"2021\"  # Enter the year\n",
    "month = \"04\"   # Enter the month [01,02,03,04,05,06,07,08,09,10,11,12]\n",
    "day = \"09\"     # Enter the day [01,02,03,04,05,06,07,08,09,...,31]\n",
    "\n",
    "\n",
    "#! Do not touch the following lines !#\n",
    "DESI_Log=nl.NightLog(year,month,day)\n",
    "DESI_Log.initializing()"
   ]
  },
  {
   "cell_type": "markdown",
   "metadata": {},
   "source": [
    "### Useful links\n",
    "\n",
    "Ephemeris : https://www.noao.edu/kpno/skycal/skycal.html \n",
    "\n",
    "LO (DESI Lead Observer) : https://desi.lbl.gov/trac/wiki/DESIOperations/MeetLOs \n",
    "\n",
    "OA (NOIR Lab Telescope Operator) : http://www-kpno.kpno.noao.edu/observing/duty.html \n",
    "\n",
    "FYI, the Telescope Operator slack handle is @MayallOA\n",
    "\n",
    "Complete the fields \"Operations Scientist\", \"Lead Observer\", \"Telescope Operator\", \"Ephemerid\", \"Weather conditions at sunset\", and finally, Run the cell below."
   ]
  },
  {
   "cell_type": "code",
   "execution_count": 3,
   "metadata": {},
   "outputs": [],
   "source": [
    "## all input should be as strings, ASCII characters only\n",
    "\n",
    "# Operations Scientist\n",
    "your_firstname = \"\"\n",
    "your_lastname = \"\"\n",
    "\n",
    "# Lead Observer\n",
    "LO_firstname = \"\"\n",
    "LO_lastname = \"\"\n",
    "\n",
    "# Telescope Operator (a.k.a. Observing Assistant)\n",
    "OA_firstname = \"\"\n",
    "OA_lastname = \"\"\n",
    "\n",
    "# Ephemerid in local time (if 6:14 pm, enter \"1814\"; if 4:52 am, enter \"0452\")\n",
    "time_sunset = \"\"                       # Enter time of sunset             \n",
    "time_18_deg_twilight_ends = \"\"         # Enter time of 18 degree twilight after sunset\n",
    "time_18_deg_twilight_starts = \"\"       # Enter time of 18 degree twilight before sunset\n",
    "time_sunrise = \"\"                     # Enter time of sunrise\n",
    "time_moonrise = \"\"         # Enter the exact time if between sunset and sunrise, otherwise enter \"daytime\" \n",
    "time_moonset = \"\"           # Enter the exact time if between sunset and sunrise, otherwise enter \"daytime\" \n",
    "illumination = \"\"                      # Enter a number between 0 and 100 \n",
    "\n",
    "# Describe the weather conditions at sunset\n",
    "weather_conditions = \"\"\n",
    "\n",
    "\n",
    "#! Do not touch the following line !#\n",
    "DESI_Log.get_started_os(your_firstname,your_lastname,LO_firstname,LO_lastname,OA_firstname,OA_lastname,time_sunset,time_18_deg_twilight_ends,time_18_deg_twilight_starts,time_sunrise,time_moonrise,time_moonset,illumination,weather_conditions)\n"
   ]
  },
  {
   "cell_type": "markdown",
   "metadata": {},
   "source": [
    "## 2) Start Up & Calibrations\n",
    "\n",
    "This section concerns events related to starting the DESI instance, doing twilight/closed dome calibrations pre-observing, and focus scans.\n",
    "\n",
    "Complete and Run the cell \"Add comment/remark\" in order to add a comment to the Start Up & Calibrations progess detail.\n",
    "\n",
    "Complete and Run the cell \"Add sequence\" to log a sequence that was submitted.\n",
    "\n",
    "Complete and Run the cell \"Add script\" to log a script that was submitted."
   ]
  },
  {
   "cell_type": "markdown",
   "metadata": {},
   "source": [
    "### Add comment / remark"
   ]
  },
  {
   "cell_type": "code",
   "execution_count": 7,
   "metadata": {},
   "outputs": [],
   "source": [
    "## all input should be as strings, ASCII characters only\n",
    "\n",
    "# Time in local time (if 6:14 pm, enter \"1814\"; if 4:52 am, enter \"0452\")\n",
    "time = \"\"\n",
    "\n",
    "# Enter your comment / remark below\n",
    "remark = \"\"\n",
    "\n",
    "\n",
    "#! Do not touch the following line !#\n",
    "DESI_Log.supcal_add_com_os(time,remark)"
   ]
  },
  {
   "cell_type": "markdown",
   "metadata": {},
   "source": [
    "### Add sequence"
   ]
  },
  {
   "cell_type": "code",
   "execution_count": null,
   "metadata": {},
   "outputs": [],
   "source": [
    "## all input should be as strings, ASCII characters only\n",
    "\n",
    "# Time in local time (if 6:14 pm, enter \"1814\"; if 4:52 am, enter \"0452\")\n",
    "time = \"\"\n",
    "\n",
    "# Enter the exposure number\n",
    "exp_num = \"\"\n",
    "\n",
    "# Enter the exposure type (Zero, Dark, FVC, etc)\n",
    "exp_type = \"\"\n",
    "\n",
    "# Enter additional useful information (exposure time, count, reason for executing this sequence)\n",
    "comment = \"\"\n",
    "\n",
    "#! Do not touch the following line !#\n",
    "DESI_Log.supcal_add_seq_os(time,exp_num,exp_type,comment)"
   ]
  },
  {
   "cell_type": "markdown",
   "metadata": {},
   "source": [
    "### Add script"
   ]
  },
  {
   "cell_type": "code",
   "execution_count": null,
   "metadata": {},
   "outputs": [],
   "source": [
    "## all input should be as strings, ASCII characters only\n",
    "\n",
    "# Time when the script was started (if 6:14 pm, enter \"1814\"; if 4:52 am, enter \"0452\")\n",
    "time_start = \"\"\n",
    "\n",
    "# Number of the first exposure\n",
    "exp_first = \"\"\n",
    "\n",
    "# Name of the script\n",
    "script = \"\"\n",
    "\n",
    "# Number of the last (valid) exposure\n",
    "exp_last = \"\"\n",
    "\n",
    "# If script crashes, enter time of the crash and state the issue in the 'comment' option below ; \n",
    "## otherwise leave empty (i.e. time_stop = \"\")\n",
    "time_stop = \"\"\n",
    "\n",
    "# Enter additional useful information {if the script encounters an issue, state the exposure number(s) of\n",
    "## the unsuccessful exposure(s) -or- where the issue occured}\n",
    "comment = \"\"\n",
    "\n",
    "#! Do not touch the following line !#\n",
    "DESI_Log.supcal_add_script_os(time_start,exp_first,script,time_stop,exp_last,comment)"
   ]
  }
 ],
 "metadata": {
  "kernelspec": {
   "display_name": "Python 3",
   "language": "python",
   "name": "python3"
  },
  "language_info": {
   "codemirror_mode": {
    "name": "ipython",
    "version": 3
   },
   "file_extension": ".py",
   "mimetype": "text/x-python",
   "name": "python",
   "nbconvert_exporter": "python",
   "pygments_lexer": "ipython3",
   "version": "3.7.3"
  }
 },
 "nbformat": 4,
 "nbformat_minor": 2
}
